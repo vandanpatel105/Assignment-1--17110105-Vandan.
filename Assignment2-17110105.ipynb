{
 "cells": [
  {
   "cell_type": "code",
   "execution_count": 172,
   "metadata": {},
   "outputs": [],
   "source": [
    "import random\n",
    "import nltk\n",
    "import re\n",
    "from nltk.tokenize import sent_tokenize\n",
    "import numpy as np\n",
    "# import tenserflow as tf"
   ]
  },
  {
   "cell_type": "code",
   "execution_count": 173,
   "metadata": {
    "scrolled": true
   },
   "outputs": [],
   "source": [
    "Donald_Trump_Speeches = open(\"Donald_Trump_Speeches.txt\",'r').read().lower()\n",
    "DTS = sent_tokenize(Donald_Trump_Speeches)\n",
    "for i in range (len(DTS)):\n",
    "    DTS[i] = re.sub(\"[^a-zA-Z\\s]\",\"\",DTS[i])\n",
    "    DTS[i] = nltk.word_tokenize(DTS[i])"
   ]
  },
  {
   "cell_type": "code",
   "execution_count": 174,
   "metadata": {},
   "outputs": [],
   "source": [
    "train_data = []\n",
    "test_data = []\n",
    "\n",
    "i = 0\n",
    "while(DTS != []):\n",
    "    ran_num = random.randint(0,len(DTS)-1)\n",
    "    if i%5 == 0:\n",
    "        test_data.append(DTS.pop(ran_num))\n",
    "    else:\n",
    "        train_data.append(DTS.pop(ran_num))\n",
    "    i += 1\n",
    "# Print the ratio\n",
    "# print(len(train_data)/len(test_data))"
   ]
  },
  {
   "cell_type": "code",
   "execution_count": 175,
   "metadata": {},
   "outputs": [],
   "source": [
    "#unigram\n",
    "data_count_uni = {}\n",
    "total = 0\n",
    "for i in train_data:\n",
    "    for j in i:\n",
    "        total += 1\n",
    "        if j in data_count_uni:\n",
    "            data_count_uni[j] += 1\n",
    "        else:\n",
    "            data_count_uni[j] = 1\n",
    "for i in data_count_uni:\n",
    "    data_count_uni[i] /= total"
   ]
  },
  {
   "cell_type": "code",
   "execution_count": 176,
   "metadata": {},
   "outputs": [],
   "source": [
    "for i in range (len(train_data)):\n",
    "    train_data[i] = [\"<s>\"] + train_data[i] + [\"</s>\"]"
   ]
  },
  {
   "cell_type": "code",
   "execution_count": 177,
   "metadata": {},
   "outputs": [],
   "source": [
    "#bigram\n",
    "data_count_bi = {}\n",
    "for i in range (len(train_data)):\n",
    "    for j in range (1,len(train_data[i])-1):\n",
    "        if (train_data[i][j] , train_data[i][j-1]) not in data_count_bi:\n",
    "            data_count_bi[(train_data[i][j] , train_data[i][j-1])] = 1\n",
    "        else:\n",
    "            data_count_bi[(train_data[i][j] , train_data[i][j-1])] += 1"
   ]
  },
  {
   "cell_type": "code",
   "execution_count": 178,
   "metadata": {},
   "outputs": [
    {
     "name": "stdout",
     "output_type": "stream",
     "text": [
      "5557\n",
      "40547\n"
     ]
    }
   ],
   "source": [
    "print(len(data_count_uni))\n",
    "print(len(data_count_bi))"
   ]
  },
  {
   "cell_type": "code",
   "execution_count": 179,
   "metadata": {},
   "outputs": [],
   "source": [
    "#trigram\n",
    "data_count_tri = {}\n",
    "for i in range (len(train_data)):\n",
    "    for j in range (2,len(train_data[i])-1):\n",
    "        if (train_data[i][j] , train_data[i][j-1], train_data[i][j-2]) not in data_count_bi:\n",
    "            data_count_tri[(train_data[i][j] , train_data[i][j-1], train_data[i][j-2])] = 1\n",
    "        else:\n",
    "            data_count_tri[(train_data[i][j] , train_data[i][j-1], train_data[i][j-2])] += 1\n",
    "            \n",
    "            "
   ]
  },
  {
   "cell_type": "code",
   "execution_count": 180,
   "metadata": {},
   "outputs": [
    {
     "name": "stdout",
     "output_type": "stream",
     "text": [
      "75939\n"
     ]
    }
   ],
   "source": [
    "print(len(data_count_tri))"
   ]
  },
  {
   "cell_type": "code",
   "execution_count": 181,
   "metadata": {},
   "outputs": [],
   "source": [
    "#quadgrams\n",
    "data_count_quad = {}\n",
    "for i in range (len(train_data)):\n",
    "    for j in range (3,len(train_data[i])-1):\n",
    "        if (train_data[i][j] , train_data[i][j-1], train_data[i][j-2] , train_data[i][j-3]) not in data_count_bi:\n",
    "            data_count_quad[(train_data[i][j] , train_data[i][j-1], train_data[i][j-2], train_data[i][j-3])] = 1\n",
    "        else:\n",
    "            data_count_quad[(train_data[i][j] , train_data[i][j-1], train_data[i][j-2], train_data[i][j-3])] += 1"
   ]
  },
  {
   "cell_type": "code",
   "execution_count": 185,
   "metadata": {},
   "outputs": [
    {
     "name": "stdout",
     "output_type": "stream",
     "text": [
      "87998\n"
     ]
    }
   ],
   "source": [
    "print(len(data_count_quad))"
   ]
  },
  {
   "cell_type": "code",
   "execution_count": null,
   "metadata": {},
   "outputs": [],
   "source": []
  }
 ],
 "metadata": {
  "kernelspec": {
   "display_name": "Python 3",
   "language": "python",
   "name": "python3"
  },
  "language_info": {
   "codemirror_mode": {
    "name": "ipython",
    "version": 3
   },
   "file_extension": ".py",
   "mimetype": "text/x-python",
   "name": "python",
   "nbconvert_exporter": "python",
   "pygments_lexer": "ipython3",
   "version": "3.7.4"
  }
 },
 "nbformat": 4,
 "nbformat_minor": 2
}
